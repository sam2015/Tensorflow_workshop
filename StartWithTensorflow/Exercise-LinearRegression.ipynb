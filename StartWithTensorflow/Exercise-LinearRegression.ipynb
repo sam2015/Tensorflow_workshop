{
 "cells": [
  {
   "cell_type": "markdown",
   "metadata": {},
   "source": [
    "<h1 align=center> <font size = 5> Exercise-Linear Regression with TensorFlow </font></h1>"
   ]
  },
  {
   "cell_type": "markdown",
   "metadata": {},
   "source": [
    "This exercise is about modelling a linear relationship between \"chirps of a cricket\" and ground temperature. \n",
    "\n",
    "In 1948, G. W. Pierce in his book \"Songs of Insects\" mentioned that we can predict temperature by listening to the freuency of songs(chirps) made by stripped Crickets. He recorded change in behaviour of crickets by recording number of chirps made by them at several \"different temperatures\" and found that there is a pattern in the way crickets respond to the rate of change in ground temperature 60 to 100 degrees of farenhite. He also found out that Crickets did not sing   \n",
    "above or below this temperature.\n",
    "\n",
    "This data is derieved from the above mentioned book and aim is to fit a linear model and predict the \"Best Fit Line\" for the given \"Chirps(per 15 Second)\" in Column 'A' and the corresponding \"Temperatures(Farenhite)\" in Column 'B' using TensorFlow. So that one could easily tell what temperature it is just by listening to the songs of cricket. \n",
    "\n"
   ]
  },
  {
   "cell_type": "markdown",
   "metadata": {},
   "source": [
    "### Let's import tensorFlow and python dependencies "
   ]
  },
  {
   "cell_type": "code",
   "execution_count": 1,
   "metadata": {
    "collapsed": false,
    "scrolled": false
   },
   "outputs": [],
   "source": [
    "import tensorflow as tf\n",
    "import numpy as np\n",
    "import pandas as pd\n",
    "import matplotlib.pyplot as plt\n",
    "%matplotlib inline"
   ]
  },
  {
   "cell_type": "markdown",
   "metadata": {},
   "source": [
    "### Download and Explore the Data "
   ]
  },
  {
   "cell_type": "code",
   "execution_count": 2,
   "metadata": {
    "collapsed": false
   },
   "outputs": [
    {
     "name": "stdout",
     "output_type": "stream",
     "text": [
      "2017-03-04 08:55:55 URL:https://public.boxcloud.com/d/1/r9EwY6-iq1eOHWt8KZm5IfgQlulxarWreFURrQUwOIdpCfm4OFQKaWfBExdIQWALXuBWvNgH8P4K7PrQl0oexVgnb2kQfSxx9FAfi_CjZmrV4gjyrMqI_sQ1XId6i9Tg6aFYqiucGpwE2dfWgIa4RkC6K-c-Cb3X7yvJsbjSlNrNgopO3IK_HzD06r-gyVjdJ9GLIwRtFZL18l5rwdwJ0bqPE0BEBAzHU1WrCd1b90yJi3cN0m2bnRcH8XXsSSUS8GA6n9cNcCZ7r9HM2z1vYY0J8D5SyrxK6dys68vH5vkTOBbAGHyoz80VyVQAr9WhFozWvjxD2-DyyccqftmQ1dq0R6oukOyk6O78qtm9HsjL-62n_dJLayCtS491jZaGc7dqogASc6SheNcfJHJdisg9Z732eBAHQDY9RDOG8sc0CjPP0cKoSCeL4P38wUORXShmUuVJnbc0sZbhW77Rz1HZTeGCHdbKbsrZAyJhsmtqATnQa21XwzXMwiLvQE1kf7cbMD_Jgacw-MhwWhJPHbCW9wGhiSnTi551td7pluEyVg8fJXMaNXvmmxcVY7qukISCgTX4n2zMdYmaQ4vJFjz60VRlo2F5WzsPewCxsl2k2uZEfON5PGsVQCiajRuv95OsT9LTr_P6v-sFsFrwkz4B2UfPAIaKtxitPYa4ZpKq_ECyJwgphFNKCNjbMAgWsOodqQMNSo31DnfxJUs2PAKmacQ8GNFMJJ5i68QUIfwjVw43hjwq5L6wxSvQWQI_XLtioOALkRo-JsB2-1aA1PLd2NzBv4DKXbiHf5gDyTgg_kw4PNJfoP-0Sdfd2YgV4gDCyTd2bY1kE46BK8ucWP2oAksd8JmScQOMZako9KN2MHFsmKF1F23tH_361nqH8zGFcT0aLjM6QJENiMeHwqsuXtWsYwFCXmzplSVYvrOBCE1tsVyB-O69m8Q7dUHrGi2rAoe4WRyEWG0YSo5M-rE0H_KL-ukhJRF69Ug-AUSb5p4n-XVHqhGaCmUK63_6HShv2pedixWTPl0zAcZxlgL7WiWDdXJQOhogBwyUvaajzIT9mDsXRjW8PbDqCyjzIQ-nEPJ99_tuIE8oXQyiDKSgNX99OLcsGNP-FReuWlFDttIF_d6ptVNz3eQi1L2fjVTy9etYb4vdAK9QqCBT8g../download [164/164] -> \"/resources/data/PierceCricketData.csv\" [1]\r\n"
     ]
    },
    {
     "data": {
      "text/html": [
       "<div>\n",
       "<table border=\"1\" class=\"dataframe\">\n",
       "  <thead>\n",
       "    <tr style=\"text-align: right;\">\n",
       "      <th></th>\n",
       "      <th>Chirps</th>\n",
       "      <th>Temp</th>\n",
       "    </tr>\n",
       "  </thead>\n",
       "  <tbody>\n",
       "    <tr>\n",
       "      <th>0</th>\n",
       "      <td>20.0</td>\n",
       "      <td>88.6</td>\n",
       "    </tr>\n",
       "    <tr>\n",
       "      <th>1</th>\n",
       "      <td>16.0</td>\n",
       "      <td>71.6</td>\n",
       "    </tr>\n",
       "    <tr>\n",
       "      <th>2</th>\n",
       "      <td>19.8</td>\n",
       "      <td>93.3</td>\n",
       "    </tr>\n",
       "    <tr>\n",
       "      <th>3</th>\n",
       "      <td>18.4</td>\n",
       "      <td>84.3</td>\n",
       "    </tr>\n",
       "    <tr>\n",
       "      <th>4</th>\n",
       "      <td>17.1</td>\n",
       "      <td>80.6</td>\n",
       "    </tr>\n",
       "  </tbody>\n",
       "</table>\n",
       "</div>"
      ],
      "text/plain": [
       "   Chirps  Temp\n",
       "0    20.0  88.6\n",
       "1    16.0  71.6\n",
       "2    19.8  93.3\n",
       "3    18.4  84.3\n",
       "4    17.1  80.6"
      ]
     },
     "execution_count": 2,
     "metadata": {},
     "output_type": "execute_result"
    }
   ],
   "source": [
    "\n",
    "#downloading dataset\n",
    "!wget -nv -O /resources/data/PierceCricketData.csv https://ibm.box.com/shared/static/fjbsu8qbwm1n5zsw90q6xzfo4ptlsw96.csv\n",
    "\n",
    "\n",
    "df = pd.read_csv(\"/resources/data/PierceCricketData.csv\")\n",
    "df.head()"
   ]
  },
  {
   "cell_type": "markdown",
   "metadata": {},
   "source": [
    "<h6> Plot the Data Points </h6>"
   ]
  },
  {
   "cell_type": "code",
   "execution_count": 3,
   "metadata": {
    "collapsed": false
   },
   "outputs": [
    {
     "data": {
      "text/plain": [
       "<matplotlib.text.Text at 0x7ff5cf8fae90>"
      ]
     },
     "execution_count": 3,
     "metadata": {},
     "output_type": "execute_result"
    },
    {
     "data": {
      "image/png": "[encoded data removed]",
      "text/plain": [
       "<matplotlib.figure.Figure at 0x7ff5cff4cf10>"
      ]
     },
     "metadata": {},
     "output_type": "display_data"
    }
   ],
   "source": [
    "\n",
    "%matplotlib inline\n",
    "\n",
    "x_data, y_data = (df[\"Chirps\"].values,df[\"Temp\"].values)\n",
    "\n",
    "# plots the data points\n",
    "plt.plot(x_data, y_data, 'ro')\n",
    "# label the axis\n",
    "plt.xlabel(\"# Chirps per 15 sec\")\n",
    "plt.ylabel(\"Temp in Farenhiet\")\n"
   ]
  },
  {
   "cell_type": "markdown",
   "metadata": {},
   "source": [
    "Looking at the scatter plot we can analyse that there is a linear relationship between the data points that connect chirps to the temperature and optimal way to infer this knowledge is by fitting a line that best describes the data. Which follows the linear equation: \n",
    "\n",
    " ####                                          Ypred = m X + c \n",
    "\n",
    "We have to estimate the values of the slope 'm' and the inrtercept 'c' to fit a line where, X is the \"Chirps\" and Ypred is \"Predicted Temperature\" in this case. \n"
   ]
  },
  {
   "cell_type": "markdown",
   "metadata": {},
   "source": [
    "### Create a Data Flow Graph using TensorFlow \n",
    "\n",
    "Model the above equation by assigning arbitrary values of your choice for slope \"m\" and intercept \"c\" which can predict the temp \"Ypred\" given Chirps \"X\" as input. \n",
    "\n",
    "example m=3 and c=2\n",
    "\n",
    "Also, create a place holder for actual temperature \"Y\" which we will be needing for Optimization to estimate the actual values of slope and intercept.\n"
   ]
  },
  {
   "cell_type": "code",
   "execution_count": 7,
   "metadata": {
    "collapsed": false
   },
   "outputs": [],
   "source": [
    "X = tf.placeholder(tf.float32, shape=(x_data.size))\n",
    "Y = tf.placeholder(tf.float32,shape=(y_data.size))\n",
    "\n",
    "# tf.Variable call creates a  single updatable copy in the memory and efficiently updates \n",
    "# the copy to relfect any changes in the variable values through out the scope of the tensorflow session\n",
    "m = tf.Variable(3.0)\n",
    "c = tf.Variable(2.0)\n",
    "\n",
    "# Construct a Model\n",
    "Ypred = tf.add((X * m), c)"
   ]
  },
  {
   "cell_type": "markdown",
   "metadata": {},
   "source": [
    "###  Create and Run a Session to Visualize the Predicted Line from above Graph \n",
    "\n",
    "<h6> Feel free to change the values of \"m\" and \"c\" in future to check how the initial position of line changes </h6>\n"
   ]
  },
  {
   "cell_type": "code",
   "execution_count": 9,
   "metadata": {
    "collapsed": false
   },
   "outputs": [],
   "source": [
    "#create session and initialize variables\n",
    "session = tf.Session()\n",
    "session.run(tf.initialize_all_variables())"
   ]
  },
  {
   "cell_type": "code",
   "execution_count": 10,
   "metadata": {
    "collapsed": false
   },
   "outputs": [
    {
     "data": {
      "text/plain": [
       "<matplotlib.text.Text at 0x7ff5c5e59f90>"
      ]
     },
     "execution_count": 10,
     "metadata": {},
     "output_type": "execute_result"
    },
    {
     "data": {
      "image/png": "[encoded data removed]",
      "text/plain": [
       "<matplotlib.figure.Figure at 0x7ff5c5f9fbd0>"
      ]
     },
     "metadata": {},
     "output_type": "display_data"
    }
   ],
   "source": [
    "pred = session.run(Ypred, feed_dict={X:x_data})\n",
    "\n",
    "#plot initial prediction against datapoints\n",
    "plt.plot(x_data, pred)\n",
    "plt.plot(x_data, y_data, 'ro')\n",
    "# label the axis\n",
    "plt.xlabel(\"# Chirps per 15 sec\")\n",
    "plt.ylabel(\"Temp in Farenhiet\")"
   ]
  },
  {
   "cell_type": "markdown",
   "metadata": {},
   "source": []
  },
  {
   "cell_type": "markdown",
   "metadata": {},
   "source": [
    "### Define a  Graph for Loss Function\n",
    "\n",
    "The essence of estimating the values for \"m\" and \"c\" lies in minimizing the difference between predicted \"Ypred\" and actual \"Y\" temperature values which is defined in the form of Mean Squared error loss function. \n",
    "      \n",
    "$$ loss = \\frac{1}{n}\\sum_{i=1}^n{[Ypred_i - {Y}_i]^2} $$\n",
    "\n",
    "Note: There are also other ways to model the loss function based on distance metric between predicted and actual temperature values. For this exercise Mean Suared error criteria is considered. \n"
   ]
  },
  {
   "cell_type": "code",
   "execution_count": 11,
   "metadata": {
    "collapsed": false
   },
   "outputs": [],
   "source": [
    "# normalization factor\n",
    "nf = 1e-1\n",
    "# seting up the loss function\n",
    "loss = tf.reduce_mean(tf.squared_difference(Ypred*nf,Y*nf))"
   ]
  },
  {
   "cell_type": "markdown",
   "metadata": {},
   "source": []
  },
  {
   "cell_type": "markdown",
   "metadata": {},
   "source": [
    "### Define an Optimization Graph to Minimize the Loss and Training the Model\n",
    "\n",
    "\n",
    "\n"
   ]
  },
  {
   "cell_type": "code",
   "execution_count": 12,
   "metadata": {
    "collapsed": true
   },
   "outputs": [],
   "source": [
    "optimizer = tf.train.GradientDescentOptimizer(learning_rate=0.01)\n",
    "#optimizer = tf.train.AdagradOptimizer(0.01 )\n",
    "\n",
    "# pass the loss function that optimizer should optimize on.\n",
    "train = optimizer.minimize(loss)"
   ]
  },
  {
   "cell_type": "markdown",
   "metadata": {},
   "source": []
  },
  {
   "cell_type": "markdown",
   "metadata": {},
   "source": [
    "### Initialize all the vairiables again\n"
   ]
  },
  {
   "cell_type": "code",
   "execution_count": 13,
   "metadata": {
    "collapsed": true
   },
   "outputs": [],
   "source": [
    "session.run(tf.initialize_all_variables())"
   ]
  },
  {
   "cell_type": "markdown",
   "metadata": {},
   "source": [
    "###  Run session to train and predict the values of 'm' and 'c' for different training steps along with storing the losses in each step"
   ]
  },
  {
   "cell_type": "markdown",
   "metadata": {},
   "source": [
    "Get the predicted m and c values by running a session on Training a linear model. Also collect the loss for different steps to print and plot.  "
   ]
  },
  {
   "cell_type": "code",
   "execution_count": 14,
   "metadata": {
    "collapsed": false
   },
   "outputs": [
    {
     "name": "stdout",
     "output_type": "stream",
     "text": [
      "Finished by Convergence Criterion\n",
      "119\n",
      "0.183721\n"
     ]
    }
   ],
   "source": [
    "convergenceTolerance = 0.0001\n",
    "previous_m = np.inf\n",
    "previous_c = np.inf\n",
    "\n",
    "steps = {}\n",
    "steps['m'] = []\n",
    "steps['c'] = []\n",
    "\n",
    "losses=[]\n",
    "\n",
    "for k in range(100000):\n",
    "    \n",
    "   ########## Your Code goes Here ###########\n",
    "    \n",
    "\n",
    "    # run a session to train , get m and c values with loss function \n",
    "    _, _m , _c,_l = session.run([train, m, c,loss],feed_dict={X:x_data,Y:y_data}) \n",
    "\n",
    "    steps['m'].append(_m)\n",
    "    steps['c'].append(_c)\n",
    "    losses.append(_l)\n",
    "    if (np.abs(previous_m - _m) or np.abs(previous_c - _c) ) <= convergenceTolerance :\n",
    "        \n",
    "        print \"Finished by Convergence Criterion\"\n",
    "        print k\n",
    "        print _l\n",
    "        break\n",
    "    previous_m = _m, \n",
    "    previous_c = _c, \n",
    "    \n",
    "session.close() "
   ]
  },
  {
   "cell_type": "markdown",
   "metadata": {},
   "source": []
  },
  {
   "cell_type": "markdown",
   "metadata": {},
   "source": [
    "### Print the loss function"
   ]
  },
  {
   "cell_type": "code",
   "execution_count": 15,
   "metadata": {
    "collapsed": false
   },
   "outputs": [
    {
     "data": {
      "text/plain": [
       "[<matplotlib.lines.Line2D at 0x7ff5c44f6490>]"
      ]
     },
     "execution_count": 15,
     "metadata": {},
     "output_type": "execute_result"
    },
    {
     "data": {
      "image/png": "[encoded data removed]",
      "text/plain": [
       "<matplotlib.figure.Figure at 0x7ff5c4536410>"
      ]
     },
     "metadata": {},
     "output_type": "display_data"
    }
   ],
   "source": [
    "plt.plot(losses[:])"
   ]
  },
  {
   "cell_type": "markdown",
   "metadata": {},
   "source": []
  }
 ],
 "metadata": {
  "kernelspec": {
   "display_name": "Python 2",
   "language": "python",
   "name": "python2"
  },
  "language_info": {
   "codemirror_mode": {
    "name": "ipython",
    "version": 2
   },
   "file_extension": ".py",
   "mimetype": "text/x-python",
   "name": "python",
   "nbconvert_exporter": "python",
   "pygments_lexer": "ipython2",
   "version": "2.7.12"
  },
  "widgets": {
   "state": {},
   "version": "1.1.2"
  }
 },
 "nbformat": 4,
 "nbformat_minor": 0
}

{
 "cells": [
  {
   "cell_type": "code",
   "execution_count": 178,
   "metadata": {
    "collapsed": true
   },
   "outputs": [],
   "source": [
    "import matplotlib.pyplot as plt\n",
    "import tensorflow as tf\n",
    "import numpy as np\n",
    "from sklearn.datasets import load_boston\n",
    "%matplotlib inline\n",
    "np.random.seed(42)"
   ]
  },
  {
   "cell_type": "code",
   "execution_count": 203,
   "metadata": {
    "collapsed": false
   },
   "outputs": [],
   "source": [
    "def read_boston_data():\n",
    "    boston = load_boston()\n",
    "    features = np.array(boston.data)\n",
    "    labels = np.array(boston.target)\n",
    "    return features, labels\n",
    "\n",
    "def feature_normalize(dataset):\n",
    "    mu = np.mean(dataset,axis=0)\n",
    "    sigma = np.std(dataset,axis=0)\n",
    "    return (dataset - mu)/sigma\n",
    "\n",
    "def data_reshape(features,labels):\n",
    "    n_training_samples = features.shape[0]\n",
    "    n_dim = features.shape[1]\n",
    "    #f = np.reshape(np.c_[np.ones(n_training_samples),features],[n_training_samples,n_dim + 1])\n",
    "    f = np.reshape(features,[n_training_samples,n_dim])\n",
    "    l = np.reshape(labels,[n_training_samples,1])\n",
    "    return f, l"
   ]
  },
  {
   "cell_type": "code",
   "execution_count": 204,
   "metadata": {
    "collapsed": true
   },
   "outputs": [],
   "source": [
    "features,labels = read_boston_data()\n",
    "normalized_features = feature_normalize(features)\n",
    "f, l = data_reshape(normalized_features,labels)\n",
    "n_dim = f.shape[1]\n",
    "\n",
    "rnd_indices = np.random.rand(len(f)) < 0.80\n",
    "\n",
    "train_x = f[rnd_indices]\n",
    "train_y = l[rnd_indices]\n",
    "test_x = f[~rnd_indices]\n",
    "test_y = l[~rnd_indices]"
   ]
  },
  {
   "cell_type": "code",
   "execution_count": 205,
   "metadata": {
    "collapsed": false
   },
   "outputs": [],
   "source": [
    "n_samples = f.shape[0]"
   ]
  },
  {
   "cell_type": "code",
   "execution_count": 199,
   "metadata": {
    "collapsed": true
   },
   "outputs": [],
   "source": [
    "learning_rate = 0.01\n",
    "training_epochs = 1000\n",
    "cost_history = np.empty(shape=[1],dtype=float)\n",
    "\n",
    "X = tf.placeholder(tf.float32,[None,n_dim])\n",
    "Y = tf.placeholder(tf.float32,[None,1])\n",
    "W = tf.Variable(tf.ones([n_dim,1]))\n",
    "b = tf.Variable(tf.ones([1]))\n",
    "\n",
    "init = tf.initialize_all_variables()"
   ]
  },
  {
   "cell_type": "code",
   "execution_count": 200,
   "metadata": {
    "collapsed": true
   },
   "outputs": [],
   "source": [
    "y_ = tf.add(tf.matmul(X, W), b)\n",
    "#cost = tf.reduce_mean(tf.square(y_ - Y))\n",
    "cost = tf.reduce_sum(tf.pow(y_ - Y, 2))/(2*n_samples)\n",
    "training_step = tf.train.GradientDescentOptimizer(learning_rate).minimize(cost)"
   ]
  },
  {
   "cell_type": "code",
   "execution_count": 201,
   "metadata": {
    "collapsed": false
   },
   "outputs": [
    {
     "name": "stdout",
     "output_type": "stream",
     "text": [
      "Epoch: 0050 cost= 101.196777344\n",
      "Epoch: 0100 cost= 50.600219727\n",
      "Epoch: 0150 cost= 28.434288025\n",
      "Epoch: 0200 cost= 18.569324493\n",
      "Epoch: 0250 cost= 14.100242615\n",
      "Epoch: 0300 cost= 12.019495964\n",
      "Epoch: 0350 cost= 11.008198738\n",
      "Epoch: 0400 cost= 10.483911514\n",
      "Epoch: 0450 cost= 10.187278748\n",
      "Epoch: 0500 cost= 10.001490593\n",
      "Epoch: 0550 cost= 9.873044968\n",
      "Epoch: 0600 cost= 9.776812553\n",
      "Epoch: 0650 cost= 9.700487137\n",
      "Epoch: 0700 cost= 9.637685776\n",
      "Epoch: 0750 cost= 9.584832191\n",
      "Epoch: 0800 cost= 9.539722443\n",
      "Epoch: 0850 cost= 9.500874519\n",
      "Epoch: 0900 cost= 9.467208862\n",
      "Epoch: 0950 cost= 9.437895775\n",
      "Epoch: 1000 cost= 9.412277222\n",
      "----------------------------------------------------------\n",
      "MSE: 18.7758\n"
     ]
    },
    {
     "data": {
      "image/png": "[encoded data removed]",
      "text/plain": [
       "<matplotlib.figure.Figure at 0x7fb7c43ac550>"
      ]
     },
     "metadata": {},
     "output_type": "display_data"
    }
   ],
   "source": [
    "#sess = tf.Session()\n",
    "#sess.run(init)\n",
    "with tf.Session() as sess:\n",
    "    sess.run(init)\n",
    "    for epoch in range(training_epochs):\n",
    "        sess.run(training_step,feed_dict={X:train_x,Y:train_y})\n",
    "        cost_history = np.append(cost_history,sess.run(cost,feed_dict={X: train_x,Y: train_y}))\n",
    "    \n",
    "    \n",
    "        if (epoch+1) % 50 == 0:\n",
    "                c = sess.run(cost, feed_dict={X: train_x, Y:train_y})\n",
    "                print \"Epoch:\", '%04d' % (epoch+1), \"cost=\", \"{:.9f}\".format(c)#, \\\n",
    "#                \"W=\", sess.run(W), \"b=\", sess.run(b)\n",
    "    pred_y = sess.run(y_, feed_dict={X: test_x})\n",
    "    mse = tf.reduce_mean(tf.square(pred_y - test_y))\n",
    "    print \"----------------------------------------------------------\"\n",
    "    print(\"MSE: %.4f\" % sess.run(mse)) \n",
    "\n",
    "    fig, ax = plt.subplots()\n",
    "    ax.scatter(test_y, pred_y)\n",
    "    ax.plot([test_y.min(), test_y.max()], [test_y.min(), test_y.max()], 'k--', lw=3)\n",
    "    ax.set_xlabel('Measured')\n",
    "    ax.set_ylabel('Predicted')\n",
    "    plt.show()"
   ]
  },
  {
   "cell_type": "code",
   "execution_count": 202,
   "metadata": {
    "collapsed": false
   },
   "outputs": [
    {
     "data": {
      "image/png": "[encoded data removed]",
      "text/plain": [
       "<matplotlib.figure.Figure at 0x7fb7b40ddd90>"
      ]
     },
     "metadata": {},
     "output_type": "display_data"
    }
   ],
   "source": [
    "plt.plot(range(len(cost_history)),cost_history)\n",
    "plt.axis([0,training_epochs,0,np.max(cost_history)])\n",
    "plt.show()"
   ]
  }
 ],
 "metadata": {
  "kernelspec": {
   "display_name": "Python 2",
   "language": "python",
   "name": "python2"
  },
  "language_info": {
   "codemirror_mode": {
    "name": "ipython",
    "version": 2
   },
   "file_extension": ".py",
   "mimetype": "text/x-python",
   "name": "python",
   "nbconvert_exporter": "python",
   "pygments_lexer": "ipython2",
   "version": "2.7.12"
  },
  "widgets": {
   "state": {},
   "version": "1.1.2"
  }
 },
 "nbformat": 4,
 "nbformat_minor": 0
}

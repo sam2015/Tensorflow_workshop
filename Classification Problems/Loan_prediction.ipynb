{
 "cells": [
  {
   "cell_type": "code",
   "execution_count": 77,
   "metadata": {
    "collapsed": true
   },
   "outputs": [],
   "source": [
    "import pandas as pd\n",
    "import matplotlib.pyplot as plt\n",
    "import numpy as np\n",
    "from scipy import stats\n",
    "%matplotlib inline"
   ]
  },
  {
   "cell_type": "code",
   "execution_count": 2,
   "metadata": {
    "collapsed": false
   },
   "outputs": [
    {
     "data": {
      "text/html": [
       "<div>\n",
       "<table border=\"1\" class=\"dataframe\">\n",
       "  <thead>\n",
       "    <tr style=\"text-align: right;\">\n",
       "      <th></th>\n",
       "      <th>Loan_ID</th>\n",
       "      <th>Gender</th>\n",
       "      <th>Married</th>\n",
       "      <th>Dependents</th>\n",
       "      <th>Education</th>\n",
       "      <th>Self_Employed</th>\n",
       "      <th>ApplicantIncome</th>\n",
       "      <th>CoapplicantIncome</th>\n",
       "      <th>LoanAmount</th>\n",
       "      <th>Loan_Amount_Term</th>\n",
       "      <th>Credit_History</th>\n",
       "      <th>Property_Area</th>\n",
       "      <th>Loan_Status</th>\n",
       "    </tr>\n",
       "  </thead>\n",
       "  <tbody>\n",
       "    <tr>\n",
       "      <th>0</th>\n",
       "      <td>LP001002</td>\n",
       "      <td>Male</td>\n",
       "      <td>No</td>\n",
       "      <td>0</td>\n",
       "      <td>Graduate</td>\n",
       "      <td>No</td>\n",
       "      <td>5849</td>\n",
       "      <td>0.0</td>\n",
       "      <td>146.0</td>\n",
       "      <td>360.0</td>\n",
       "      <td>1.0</td>\n",
       "      <td>Urban</td>\n",
       "      <td>Y</td>\n",
       "    </tr>\n",
       "    <tr>\n",
       "      <th>1</th>\n",
       "      <td>LP001003</td>\n",
       "      <td>Male</td>\n",
       "      <td>Yes</td>\n",
       "      <td>1</td>\n",
       "      <td>Graduate</td>\n",
       "      <td>No</td>\n",
       "      <td>4583</td>\n",
       "      <td>1508.0</td>\n",
       "      <td>128.0</td>\n",
       "      <td>360.0</td>\n",
       "      <td>1.0</td>\n",
       "      <td>Rural</td>\n",
       "      <td>N</td>\n",
       "    </tr>\n",
       "    <tr>\n",
       "      <th>2</th>\n",
       "      <td>LP001005</td>\n",
       "      <td>Male</td>\n",
       "      <td>Yes</td>\n",
       "      <td>0</td>\n",
       "      <td>Graduate</td>\n",
       "      <td>Yes</td>\n",
       "      <td>3000</td>\n",
       "      <td>0.0</td>\n",
       "      <td>66.0</td>\n",
       "      <td>360.0</td>\n",
       "      <td>1.0</td>\n",
       "      <td>Urban</td>\n",
       "      <td>Y</td>\n",
       "    </tr>\n",
       "    <tr>\n",
       "      <th>3</th>\n",
       "      <td>LP001006</td>\n",
       "      <td>Male</td>\n",
       "      <td>Yes</td>\n",
       "      <td>0</td>\n",
       "      <td>Not Graduate</td>\n",
       "      <td>No</td>\n",
       "      <td>2583</td>\n",
       "      <td>2358.0</td>\n",
       "      <td>120.0</td>\n",
       "      <td>360.0</td>\n",
       "      <td>1.0</td>\n",
       "      <td>Urban</td>\n",
       "      <td>Y</td>\n",
       "    </tr>\n",
       "    <tr>\n",
       "      <th>4</th>\n",
       "      <td>LP001008</td>\n",
       "      <td>Male</td>\n",
       "      <td>No</td>\n",
       "      <td>0</td>\n",
       "      <td>Graduate</td>\n",
       "      <td>No</td>\n",
       "      <td>6000</td>\n",
       "      <td>0.0</td>\n",
       "      <td>141.0</td>\n",
       "      <td>360.0</td>\n",
       "      <td>1.0</td>\n",
       "      <td>Urban</td>\n",
       "      <td>Y</td>\n",
       "    </tr>\n",
       "  </tbody>\n",
       "</table>\n",
       "</div>"
      ],
      "text/plain": [
       "    Loan_ID Gender Married Dependents     Education Self_Employed  \\\n",
       "0  LP001002   Male      No          0      Graduate            No   \n",
       "1  LP001003   Male     Yes          1      Graduate            No   \n",
       "2  LP001005   Male     Yes          0      Graduate           Yes   \n",
       "3  LP001006   Male     Yes          0  Not Graduate            No   \n",
       "4  LP001008   Male      No          0      Graduate            No   \n",
       "\n",
       "   ApplicantIncome  CoapplicantIncome  LoanAmount  Loan_Amount_Term  \\\n",
       "0             5849                0.0       146.0             360.0   \n",
       "1             4583             1508.0       128.0             360.0   \n",
       "2             3000                0.0        66.0             360.0   \n",
       "3             2583             2358.0       120.0             360.0   \n",
       "4             6000                0.0       141.0             360.0   \n",
       "\n",
       "   Credit_History Property_Area Loan_Status  \n",
       "0             1.0         Urban           Y  \n",
       "1             1.0         Rural           N  \n",
       "2             1.0         Urban           Y  \n",
       "3             1.0         Urban           Y  \n",
       "4             1.0         Urban           Y  "
      ]
     },
     "execution_count": 2,
     "metadata": {},
     "output_type": "execute_result"
    }
   ],
   "source": [
    "data = pd.read_csv('./data/train.csv')\n",
    "data.head()"
   ]
  },
  {
   "cell_type": "code",
   "execution_count": null,
   "metadata": {
    "collapsed": false
   },
   "outputs": [],
   "source": [
    "data.dtypes"
   ]
  },
  {
   "cell_type": "code",
   "execution_count": 16,
   "metadata": {
    "collapsed": false
   },
   "outputs": [
    {
     "data": {
      "text/plain": [
       "Loan_ID               0\n",
       "Gender                0\n",
       "Married               0\n",
       "Dependents            0\n",
       "Education             0\n",
       "Self_Employed         0\n",
       "ApplicantIncome       0\n",
       "CoapplicantIncome     0\n",
       "LoanAmount           21\n",
       "Loan_Amount_Term     14\n",
       "Credit_History       50\n",
       "Property_Area         0\n",
       "Loan_Status           0\n",
       "dtype: int64"
      ]
     },
     "execution_count": 16,
     "metadata": {},
     "output_type": "execute_result"
    }
   ],
   "source": [
    "data.isnull().sum()"
   ]
  },
  {
   "cell_type": "code",
   "execution_count": 5,
   "metadata": {
    "collapsed": false
   },
   "outputs": [
    {
     "data": {
      "text/plain": [
       "Male      495\n",
       "Female    112\n",
       "Name: Gender, dtype: int64"
      ]
     },
     "execution_count": 5,
     "metadata": {},
     "output_type": "execute_result"
    }
   ],
   "source": [
    "data['Gender'].value_counts()"
   ]
  },
  {
   "cell_type": "code",
   "execution_count": 6,
   "metadata": {
    "collapsed": false
   },
   "outputs": [
    {
     "data": {
      "text/plain": [
       "Yes    398\n",
       "No     213\n",
       "Name: Married, dtype: int64"
      ]
     },
     "execution_count": 6,
     "metadata": {},
     "output_type": "execute_result"
    }
   ],
   "source": [
    "data['Married'].value_counts()"
   ]
  },
  {
   "cell_type": "code",
   "execution_count": 11,
   "metadata": {
    "collapsed": false
   },
   "outputs": [
    {
     "data": {
      "text/plain": [
       "0     360\n",
       "1     102\n",
       "2     101\n",
       "3+     51\n",
       "Name: Dependents, dtype: int64"
      ]
     },
     "execution_count": 11,
     "metadata": {},
     "output_type": "execute_result"
    }
   ],
   "source": [
    "data['Dependents'].value_counts()"
   ]
  },
  {
   "cell_type": "code",
   "execution_count": 17,
   "metadata": {
    "collapsed": false
   },
   "outputs": [
    {
     "data": {
      "text/plain": [
       "No     532\n",
       "Yes     82\n",
       "Name: Self_Employed, dtype: int64"
      ]
     },
     "execution_count": 17,
     "metadata": {},
     "output_type": "execute_result"
    }
   ],
   "source": [
    "data['Self_Employed'].value_counts()"
   ]
  },
  {
   "cell_type": "code",
   "execution_count": 28,
   "metadata": {
    "collapsed": false
   },
   "outputs": [
    {
     "data": {
      "text/plain": [
       "<matplotlib.axes._subplots.AxesSubplot at 0x7fde4476c450>"
      ]
     },
     "execution_count": 28,
     "metadata": {},
     "output_type": "execute_result"
    },
    {
     "data": {
      "image/png": "[encoded data removed]",
      "text/plain": [
       "<matplotlib.figure.Figure at 0x7fde447ab310>"
      ]
     },
     "metadata": {},
     "output_type": "display_data"
    }
   ],
   "source": [
    "data['LoanAmount'].hist()"
   ]
  },
  {
   "cell_type": "code",
   "execution_count": 29,
   "metadata": {
    "collapsed": false
   },
   "outputs": [
    {
     "data": {
      "text/plain": [
       "146.41146711635753"
      ]
     },
     "execution_count": 29,
     "metadata": {},
     "output_type": "execute_result"
    }
   ],
   "source": [
    "np.mean(data['LoanAmount'])"
   ]
  },
  {
   "cell_type": "code",
   "execution_count": 45,
   "metadata": {
    "collapsed": false
   },
   "outputs": [],
   "source": [
    "amount = stats.boxcox(data['LoanAmount'])[0]"
   ]
  },
  {
   "cell_type": "code",
   "execution_count": 50,
   "metadata": {
    "collapsed": false
   },
   "outputs": [
    {
     "data": {
      "text/plain": [
       "360.0    526\n",
       "180.0     44\n",
       "480.0     15\n",
       "300.0     13\n",
       "240.0      4\n",
       "84.0       4\n",
       "120.0      3\n",
       "60.0       2\n",
       "36.0       2\n",
       "12.0       1\n",
       "Name: Loan_Amount_Term, dtype: int64"
      ]
     },
     "execution_count": 50,
     "metadata": {},
     "output_type": "execute_result"
    }
   ],
   "source": [
    "data['Loan_Amount_Term'].value_counts()"
   ]
  },
  {
   "cell_type": "code",
   "execution_count": 55,
   "metadata": {
    "collapsed": false
   },
   "outputs": [
    {
     "data": {
      "text/plain": [
       "1.0    525\n",
       "0.0     89\n",
       "Name: Credit_History, dtype: int64"
      ]
     },
     "execution_count": 55,
     "metadata": {},
     "output_type": "execute_result"
    }
   ],
   "source": [
    "data['Credit_History'].value_counts()"
   ]
  },
  {
   "cell_type": "code",
   "execution_count": 57,
   "metadata": {
    "collapsed": false
   },
   "outputs": [
    {
     "data": {
      "text/plain": [
       "<matplotlib.axes._subplots.AxesSubplot at 0x7fde3306e150>"
      ]
     },
     "execution_count": 57,
     "metadata": {},
     "output_type": "execute_result"
    },
    {
     "data": {
      "image/png": "[encoded data removed]",
      "text/plain": [
       "<matplotlib.figure.Figure at 0x7fde330797d0>"
      ]
     },
     "metadata": {},
     "output_type": "display_data"
    }
   ],
   "source": [
    "data['ApplicantIncome'].hist()"
   ]
  },
  {
   "cell_type": "code",
   "execution_count": 62,
   "metadata": {
    "collapsed": true
   },
   "outputs": [],
   "source": [
    "app_income = stats.boxcox(data['ApplicantIncome'])[0]"
   ]
  },
  {
   "cell_type": "code",
   "execution_count": 64,
   "metadata": {
    "collapsed": false
   },
   "outputs": [
    {
     "data": {
      "text/plain": [
       "<matplotlib.axes._subplots.AxesSubplot at 0x7fde32c4b610>"
      ]
     },
     "execution_count": 64,
     "metadata": {},
     "output_type": "execute_result"
    },
    {
     "data": {
      "image/png": "[encoded data removed]",
      "text/plain": [
       "<matplotlib.figure.Figure at 0x7fde32c55e10>"
      ]
     },
     "metadata": {},
     "output_type": "display_data"
    }
   ],
   "source": [
    "data['CoapplicantIncome'].hist()"
   ]
  },
  {
   "cell_type": "code",
   "execution_count": null,
   "metadata": {
    "collapsed": false
   },
   "outputs": [],
   "source": []
  },
  {
   "cell_type": "code",
   "execution_count": 59,
   "metadata": {
    "collapsed": false
   },
   "outputs": [],
   "source": [
    "data['Gender'] = data['Gender'].fillna('Male')\n",
    "data['Married'] = data['Married'].fillna('Yes')\n",
    "data['Dependents'] = data['Dependents'].fillna('0')\n",
    "data['Self_Employed'] = data['Self_Employed'].fillna('No')\n",
    "data['LoanAmount'] = data['LoanAmount'].fillna(np.mean(data['LoanAmount']))\n",
    "data['LoanAmount'] = amount\n",
    "data['Loan_Amount_Term'] = data['Loan_Amount_Term'].fillna(360.0)\n",
    "data['Credit_History'] = data['Credit_History'].fillna(1.0)\n",
    "data['ApplicantIncome'] = app_income"
   ]
  },
  {
   "cell_type": "code",
   "execution_count": 60,
   "metadata": {
    "collapsed": false
   },
   "outputs": [
    {
     "data": {
      "text/plain": [
       "<matplotlib.axes._subplots.AxesSubplot at 0x7fde33083690>"
      ]
     },
     "execution_count": 60,
     "metadata": {},
     "output_type": "execute_result"
    },
    {
     "data": {
      "image/png": "[encoded data removed]",
      "text/plain": [
       "<matplotlib.figure.Figure at 0x7fde32f66a50>"
      ]
     },
     "metadata": {},
     "output_type": "display_data"
    }
   ],
   "source": [
    "data['LoanAmount'].hist()"
   ]
  },
  {
   "cell_type": "code",
   "execution_count": 61,
   "metadata": {
    "collapsed": false
   },
   "outputs": [
    {
     "data": {
      "text/plain": [
       "<matplotlib.axes._subplots.AxesSubplot at 0x7fde32f47ad0>"
      ]
     },
     "execution_count": 61,
     "metadata": {},
     "output_type": "execute_result"
    },
    {
     "data": {
      "image/png": "[encoded data removed]",
      "text/plain": [
       "<matplotlib.figure.Figure at 0x7fde32e71290>"
      ]
     },
     "metadata": {},
     "output_type": "display_data"
    }
   ],
   "source": [
    "data['ApplicantIncome'].hist()"
   ]
  },
  {
   "cell_type": "code",
   "execution_count": 78,
   "metadata": {
    "collapsed": false
   },
   "outputs": [
    {
     "data": {
      "text/plain": [
       "Loan_ID              0\n",
       "Gender               0\n",
       "Married              0\n",
       "Dependents           0\n",
       "Education            0\n",
       "Self_Employed        0\n",
       "ApplicantIncome      0\n",
       "CoapplicantIncome    0\n",
       "LoanAmount           0\n",
       "Loan_Amount_Term     0\n",
       "Credit_History       0\n",
       "Property_Area        0\n",
       "Loan_Status          0\n",
       "dtype: int64"
      ]
     },
     "execution_count": 78,
     "metadata": {},
     "output_type": "execute_result"
    }
   ],
   "source": [
    "data.isnull().sum()"
   ]
  },
  {
   "cell_type": "code",
   "execution_count": 107,
   "metadata": {
    "collapsed": true
   },
   "outputs": [],
   "source": [
    "from sklearn.preprocessing import LabelEncoder, StandardScaler"
   ]
  },
  {
   "cell_type": "code",
   "execution_count": 95,
   "metadata": {
    "collapsed": false
   },
   "outputs": [],
   "source": [
    "labelencoder = LabelEncoder()\n",
    "data['Gender'] = labelencoder.fit_transform(data['Gender'])\n",
    "data['Married'] = labelencoder.fit_transform(data['Married'])\n",
    "data['Dependents'] = labelencoder.fit_transform(data['Dependents'])\n",
    "data['Education'] = labelencoder.fit_transform(data['Education'])\n",
    "data['Self_Employed'] = labelencoder.fit_transform(data['Self_Employed'])\n",
    "data['Property_Area'] = labelencoder.fit_transform(data['Property_Area'])\n",
    "data['Loan_Status'] = labelencoder.fit_transform(data['Loan_Status'])"
   ]
  },
  {
   "cell_type": "code",
   "execution_count": 97,
   "metadata": {
    "collapsed": false
   },
   "outputs": [
    {
     "data": {
      "text/html": [
       "<div>\n",
       "<table border=\"1\" class=\"dataframe\">\n",
       "  <thead>\n",
       "    <tr style=\"text-align: right;\">\n",
       "      <th></th>\n",
       "      <th>Loan_ID</th>\n",
       "      <th>Gender</th>\n",
       "      <th>Married</th>\n",
       "      <th>Dependents</th>\n",
       "      <th>Education</th>\n",
       "      <th>Self_Employed</th>\n",
       "      <th>ApplicantIncome</th>\n",
       "      <th>CoapplicantIncome</th>\n",
       "      <th>LoanAmount</th>\n",
       "      <th>Loan_Amount_Term</th>\n",
       "      <th>Credit_History</th>\n",
       "      <th>Property_Area</th>\n",
       "      <th>Loan_Status</th>\n",
       "    </tr>\n",
       "  </thead>\n",
       "  <tbody>\n",
       "    <tr>\n",
       "      <th>0</th>\n",
       "      <td>LP001002</td>\n",
       "      <td>1</td>\n",
       "      <td>0</td>\n",
       "      <td>0</td>\n",
       "      <td>0</td>\n",
       "      <td>0</td>\n",
       "      <td>5.784390</td>\n",
       "      <td>0.0</td>\n",
       "      <td>5.664479</td>\n",
       "      <td>360.0</td>\n",
       "      <td>1.0</td>\n",
       "      <td>2</td>\n",
       "      <td>1</td>\n",
       "    </tr>\n",
       "    <tr>\n",
       "      <th>1</th>\n",
       "      <td>LP001003</td>\n",
       "      <td>1</td>\n",
       "      <td>1</td>\n",
       "      <td>1</td>\n",
       "      <td>0</td>\n",
       "      <td>0</td>\n",
       "      <td>5.681300</td>\n",
       "      <td>1508.0</td>\n",
       "      <td>5.437236</td>\n",
       "      <td>360.0</td>\n",
       "      <td>1.0</td>\n",
       "      <td>0</td>\n",
       "      <td>0</td>\n",
       "    </tr>\n",
       "    <tr>\n",
       "      <th>2</th>\n",
       "      <td>LP001005</td>\n",
       "      <td>1</td>\n",
       "      <td>1</td>\n",
       "      <td>0</td>\n",
       "      <td>0</td>\n",
       "      <td>1</td>\n",
       "      <td>5.496075</td>\n",
       "      <td>0.0</td>\n",
       "      <td>4.337609</td>\n",
       "      <td>360.0</td>\n",
       "      <td>1.0</td>\n",
       "      <td>2</td>\n",
       "      <td>1</td>\n",
       "    </tr>\n",
       "    <tr>\n",
       "      <th>3</th>\n",
       "      <td>LP001006</td>\n",
       "      <td>1</td>\n",
       "      <td>1</td>\n",
       "      <td>0</td>\n",
       "      <td>1</td>\n",
       "      <td>0</td>\n",
       "      <td>5.428743</td>\n",
       "      <td>2358.0</td>\n",
       "      <td>5.326851</td>\n",
       "      <td>360.0</td>\n",
       "      <td>1.0</td>\n",
       "      <td>2</td>\n",
       "      <td>1</td>\n",
       "    </tr>\n",
       "    <tr>\n",
       "      <th>4</th>\n",
       "      <td>LP001008</td>\n",
       "      <td>1</td>\n",
       "      <td>0</td>\n",
       "      <td>0</td>\n",
       "      <td>0</td>\n",
       "      <td>0</td>\n",
       "      <td>5.795017</td>\n",
       "      <td>0.0</td>\n",
       "      <td>5.604007</td>\n",
       "      <td>360.0</td>\n",
       "      <td>1.0</td>\n",
       "      <td>2</td>\n",
       "      <td>1</td>\n",
       "    </tr>\n",
       "  </tbody>\n",
       "</table>\n",
       "</div>"
      ],
      "text/plain": [
       "    Loan_ID  Gender  Married  Dependents  Education  Self_Employed  \\\n",
       "0  LP001002       1        0           0          0              0   \n",
       "1  LP001003       1        1           1          0              0   \n",
       "2  LP001005       1        1           0          0              1   \n",
       "3  LP001006       1        1           0          1              0   \n",
       "4  LP001008       1        0           0          0              0   \n",
       "\n",
       "   ApplicantIncome  CoapplicantIncome  LoanAmount  Loan_Amount_Term  \\\n",
       "0         5.784390                0.0    5.664479             360.0   \n",
       "1         5.681300             1508.0    5.437236             360.0   \n",
       "2         5.496075                0.0    4.337609             360.0   \n",
       "3         5.428743             2358.0    5.326851             360.0   \n",
       "4         5.795017                0.0    5.604007             360.0   \n",
       "\n",
       "   Credit_History  Property_Area  Loan_Status  \n",
       "0             1.0              2            1  \n",
       "1             1.0              0            0  \n",
       "2             1.0              2            1  \n",
       "3             1.0              2            1  \n",
       "4             1.0              2            1  "
      ]
     },
     "execution_count": 97,
     "metadata": {},
     "output_type": "execute_result"
    }
   ],
   "source": [
    "data.head()"
   ]
  },
  {
   "cell_type": "code",
   "execution_count": 1,
   "metadata": {
    "collapsed": false
   },
   "outputs": [],
   "source": [
    "#label = pd.get_dummies(data['Loan_Status'])\n",
    "#label = label.values"
   ]
  },
  {
   "cell_type": "code",
   "execution_count": 117,
   "metadata": {
    "collapsed": false
   },
   "outputs": [
    {
     "data": {
      "text/plain": [
       "array([[ 0.,  1.],\n",
       "       [ 1.,  0.],\n",
       "       [ 0.,  1.],\n",
       "       ..., \n",
       "       [ 0.,  1.],\n",
       "       [ 0.,  1.],\n",
       "       [ 1.,  0.]])"
      ]
     },
     "execution_count": 117,
     "metadata": {},
     "output_type": "execute_result"
    }
   ],
   "source": [
    "label"
   ]
  },
  {
   "cell_type": "code",
   "execution_count": 104,
   "metadata": {
    "collapsed": false
   },
   "outputs": [],
   "source": [
    "n_data = data[['Gender', 'Married', 'Dependents', 'Education', 'Self_Employed', 'ApplicantIncome', 'LoanAmount', 'Loan_Amount_Term', 'Credit_History', 'Property_Area']]"
   ]
  },
  {
   "cell_type": "code",
   "execution_count": 106,
   "metadata": {
    "collapsed": false
   },
   "outputs": [
    {
     "data": {
      "text/html": [
       "<div>\n",
       "<table border=\"1\" class=\"dataframe\">\n",
       "  <thead>\n",
       "    <tr style=\"text-align: right;\">\n",
       "      <th></th>\n",
       "      <th>Gender</th>\n",
       "      <th>Married</th>\n",
       "      <th>Dependents</th>\n",
       "      <th>Education</th>\n",
       "      <th>Self_Employed</th>\n",
       "      <th>ApplicantIncome</th>\n",
       "      <th>LoanAmount</th>\n",
       "      <th>Loan_Amount_Term</th>\n",
       "      <th>Credit_History</th>\n",
       "      <th>Property_Area</th>\n",
       "    </tr>\n",
       "  </thead>\n",
       "  <tbody>\n",
       "    <tr>\n",
       "      <th>0</th>\n",
       "      <td>1</td>\n",
       "      <td>0</td>\n",
       "      <td>0</td>\n",
       "      <td>0</td>\n",
       "      <td>0</td>\n",
       "      <td>5.784390</td>\n",
       "      <td>5.664479</td>\n",
       "      <td>360.0</td>\n",
       "      <td>1.0</td>\n",
       "      <td>2</td>\n",
       "    </tr>\n",
       "    <tr>\n",
       "      <th>1</th>\n",
       "      <td>1</td>\n",
       "      <td>1</td>\n",
       "      <td>1</td>\n",
       "      <td>0</td>\n",
       "      <td>0</td>\n",
       "      <td>5.681300</td>\n",
       "      <td>5.437236</td>\n",
       "      <td>360.0</td>\n",
       "      <td>1.0</td>\n",
       "      <td>0</td>\n",
       "    </tr>\n",
       "    <tr>\n",
       "      <th>2</th>\n",
       "      <td>1</td>\n",
       "      <td>1</td>\n",
       "      <td>0</td>\n",
       "      <td>0</td>\n",
       "      <td>1</td>\n",
       "      <td>5.496075</td>\n",
       "      <td>4.337609</td>\n",
       "      <td>360.0</td>\n",
       "      <td>1.0</td>\n",
       "      <td>2</td>\n",
       "    </tr>\n",
       "    <tr>\n",
       "      <th>3</th>\n",
       "      <td>1</td>\n",
       "      <td>1</td>\n",
       "      <td>0</td>\n",
       "      <td>1</td>\n",
       "      <td>0</td>\n",
       "      <td>5.428743</td>\n",
       "      <td>5.326851</td>\n",
       "      <td>360.0</td>\n",
       "      <td>1.0</td>\n",
       "      <td>2</td>\n",
       "    </tr>\n",
       "    <tr>\n",
       "      <th>4</th>\n",
       "      <td>1</td>\n",
       "      <td>0</td>\n",
       "      <td>0</td>\n",
       "      <td>0</td>\n",
       "      <td>0</td>\n",
       "      <td>5.795017</td>\n",
       "      <td>5.604007</td>\n",
       "      <td>360.0</td>\n",
       "      <td>1.0</td>\n",
       "      <td>2</td>\n",
       "    </tr>\n",
       "  </tbody>\n",
       "</table>\n",
       "</div>"
      ],
      "text/plain": [
       "   Gender  Married  Dependents  Education  Self_Employed  ApplicantIncome  \\\n",
       "0       1        0           0          0              0         5.784390   \n",
       "1       1        1           1          0              0         5.681300   \n",
       "2       1        1           0          0              1         5.496075   \n",
       "3       1        1           0          1              0         5.428743   \n",
       "4       1        0           0          0              0         5.795017   \n",
       "\n",
       "   LoanAmount  Loan_Amount_Term  Credit_History  Property_Area  \n",
       "0    5.664479             360.0             1.0              2  \n",
       "1    5.437236             360.0             1.0              0  \n",
       "2    4.337609             360.0             1.0              2  \n",
       "3    5.326851             360.0             1.0              2  \n",
       "4    5.604007             360.0             1.0              2  "
      ]
     },
     "execution_count": 106,
     "metadata": {},
     "output_type": "execute_result"
    }
   ],
   "source": [
    "n_data.head()"
   ]
  },
  {
   "cell_type": "code",
   "execution_count": 112,
   "metadata": {
    "collapsed": false
   },
   "outputs": [
    {
     "data": {
      "text/plain": [
       "array([ 0.47234264, -1.37208932, -0.73780632, -0.52836225, -0.39260074,\n",
       "        0.54412655,  0.22247449,  0.2732313 ,  0.41173269,  1.22329839])"
      ]
     },
     "execution_count": 112,
     "metadata": {},
     "output_type": "execute_result"
    }
   ],
   "source": [
    "data = StandardScaler().fit_transform(n_data.values)\n",
    "data[0]"
   ]
  },
  {
   "cell_type": "code",
   "execution_count": 124,
   "metadata": {
    "collapsed": true
   },
   "outputs": [],
   "source": [
    "import tensorflow as tf"
   ]
  },
  {
   "cell_type": "code",
   "execution_count": 144,
   "metadata": {
    "collapsed": true
   },
   "outputs": [],
   "source": [
    "# parameter\n",
    "\n",
    "learning_rate = 0.0001\n",
    "epochs = 100000\n",
    "display_step = 500\n",
    "n_samples = label.size"
   ]
  },
  {
   "cell_type": "code",
   "execution_count": 127,
   "metadata": {
    "collapsed": true
   },
   "outputs": [],
   "source": [
    "X = tf.placeholder(tf.float32, [None, 10])\n",
    "\n",
    "W = tf.Variable(tf.zeros([10,2]))\n",
    "\n",
    "b = tf.Variable(tf.zeros([2]))\n",
    "\n",
    "y_values = tf.add(tf.matmul(X, W), b)\n",
    "\n",
    "y = tf.nn.softmax(y_values)\n",
    "\n",
    "y_ = tf.placeholder(tf.float32, [None, 2])"
   ]
  },
  {
   "cell_type": "code",
   "execution_count": null,
   "metadata": {
    "collapsed": true
   },
   "outputs": [],
   "source": []
  },
  {
   "cell_type": "code",
   "execution_count": 140,
   "metadata": {
    "collapsed": false
   },
   "outputs": [],
   "source": [
    "cost = tf.reduce_sum(tf.pow(y_ - y, 2))/(2* n_samples)\n",
    "#cost = tf.nn.softmax_cross_entropy_with_logits(y,y_)\n",
    "optimizer = tf.train.GradientDescentOptimizer(learning_rate).minimize(cost)"
   ]
  },
  {
   "cell_type": "code",
   "execution_count": 132,
   "metadata": {
    "collapsed": true
   },
   "outputs": [],
   "source": [
    "init = tf.initialize_all_variables()"
   ]
  },
  {
   "cell_type": "code",
   "execution_count": 145,
   "metadata": {
    "collapsed": false
   },
   "outputs": [
    {
     "name": "stdout",
     "output_type": "stream",
     "text": [
      "Training step : 0 cost = 0.124999\n",
      "Training step : 500 cost = 0.124365\n",
      "Training step : 1000 cost = 0.123738\n",
      "Training step : 1500 cost = 0.12312\n",
      "Training step : 2000 cost = 0.12251\n",
      "Training step : 2500 cost = 0.121908\n",
      "Training step : 3000 cost = 0.121314\n",
      "Training step : 3500 cost = 0.120727\n",
      "Training step : 4000 cost = 0.120148\n",
      "Training step : 4500 cost = 0.119577\n",
      "Training step : 5000 cost = 0.119013\n",
      "Training step : 5500 cost = 0.118457\n",
      "Training step : 6000 cost = 0.117908\n",
      "Training step : 6500 cost = 0.117366\n",
      "Training step : 7000 cost = 0.116832\n",
      "Training step : 7500 cost = 0.116305\n",
      "Training step : 8000 cost = 0.115785\n",
      "Training step : 8500 cost = 0.115272\n",
      "Training step : 9000 cost = 0.114767\n",
      "Training step : 9500 cost = 0.114268\n",
      "Training step : 10000 cost = 0.113776\n",
      "Training step : 10500 cost = 0.11329\n",
      "Training step : 11000 cost = 0.112812\n",
      "Training step : 11500 cost = 0.11234\n",
      "Training step : 12000 cost = 0.111874\n",
      "Training step : 12500 cost = 0.111415\n",
      "Training step : 13000 cost = 0.110962\n",
      "Training step : 13500 cost = 0.110516\n",
      "Training step : 14000 cost = 0.110076\n",
      "Training step : 14500 cost = 0.109642\n",
      "Training step : 15000 cost = 0.109214\n",
      "Training step : 15500 cost = 0.108792\n",
      "Training step : 16000 cost = 0.108375\n",
      "Training step : 16500 cost = 0.107965\n",
      "Training step : 17000 cost = 0.10756\n",
      "Training step : 17500 cost = 0.107162\n",
      "Training step : 18000 cost = 0.106768\n",
      "Training step : 18500 cost = 0.10638\n",
      "Training step : 19000 cost = 0.105998\n",
      "Training step : 19500 cost = 0.105621\n",
      "Training step : 20000 cost = 0.105249\n",
      "Training step : 20500 cost = 0.104883\n",
      "Training step : 21000 cost = 0.104521\n",
      "Training step : 21500 cost = 0.104165\n",
      "Training step : 22000 cost = 0.103814\n",
      "Training step : 22500 cost = 0.103467\n",
      "Training step : 23000 cost = 0.103126\n",
      "Training step : 23500 cost = 0.102789\n",
      "Training step : 24000 cost = 0.102457\n",
      "Training step : 24500 cost = 0.10213\n",
      "Training step : 25000 cost = 0.101807\n",
      "Training step : 25500 cost = 0.101489\n",
      "Training step : 26000 cost = 0.101175\n",
      "Training step : 26500 cost = 0.100866\n",
      "Training step : 27000 cost = 0.100561\n",
      "Training step : 27500 cost = 0.10026\n",
      "Training step : 28000 cost = 0.0999632\n",
      "Training step : 28500 cost = 0.0996708\n",
      "Training step : 29000 cost = 0.0993824\n",
      "Training step : 29500 cost = 0.099098\n",
      "Training step : 30000 cost = 0.0988175\n",
      "Training step : 30500 cost = 0.098541\n",
      "Training step : 31000 cost = 0.0982683\n",
      "Training step : 31500 cost = 0.0979994\n",
      "Training step : 32000 cost = 0.0977341\n",
      "Training step : 32500 cost = 0.0974726\n",
      "Training step : 33000 cost = 0.0972146\n",
      "Training step : 33500 cost = 0.0969603\n",
      "Training step : 34000 cost = 0.0967093\n",
      "Training step : 34500 cost = 0.0964619\n",
      "Training step : 35000 cost = 0.0962178\n",
      "Training step : 35500 cost = 0.0959771\n",
      "Training step : 36000 cost = 0.0957397\n",
      "Training step : 36500 cost = 0.0955056\n",
      "Training step : 37000 cost = 0.0952746\n",
      "Training step : 37500 cost = 0.0950467\n",
      "Training step : 38000 cost = 0.094822\n",
      "Training step : 38500 cost = 0.0946003\n",
      "Training step : 39000 cost = 0.0943816\n",
      "Training step : 39500 cost = 0.0941659\n",
      "Training step : 40000 cost = 0.093953\n",
      "Training step : 40500 cost = 0.093743\n",
      "Training step : 41000 cost = 0.093536\n",
      "Training step : 41500 cost = 0.0933316\n",
      "Training step : 42000 cost = 0.0931299\n",
      "Training step : 42500 cost = 0.092931\n",
      "Training step : 43000 cost = 0.0927347\n",
      "Training step : 43500 cost = 0.0925411\n",
      "Training step : 44000 cost = 0.09235\n",
      "Training step : 44500 cost = 0.0921614\n",
      "Training step : 45000 cost = 0.0919753\n",
      "Training step : 45500 cost = 0.0917918\n",
      "Training step : 46000 cost = 0.0916105\n",
      "Training step : 46500 cost = 0.0914318\n",
      "Training step : 47000 cost = 0.0912553\n",
      "Training step : 47500 cost = 0.0910812\n",
      "Training step : 48000 cost = 0.0909093\n",
      "Training step : 48500 cost = 0.0907397\n",
      "Training step : 49000 cost = 0.0905723\n",
      "Training step : 49500 cost = 0.090407\n",
      "Training step : 50000 cost = 0.090244\n",
      "Training step : 50500 cost = 0.090083\n",
      "Training step : 51000 cost = 0.089924\n",
      "Training step : 51500 cost = 0.0897672\n",
      "Training step : 52000 cost = 0.0896123\n",
      "Training step : 52500 cost = 0.0894595\n",
      "Training step : 53000 cost = 0.0893086\n",
      "Training step : 53500 cost = 0.0891596\n",
      "Training step : 54000 cost = 0.0890125\n",
      "Training step : 54500 cost = 0.0888673\n",
      "Training step : 55000 cost = 0.0887239\n",
      "Training step : 55500 cost = 0.0885823\n",
      "Training step : 56000 cost = 0.0884426\n",
      "Training step : 56500 cost = 0.0883046\n",
      "Training step : 57000 cost = 0.0881683\n",
      "Training step : 57500 cost = 0.0880337\n",
      "Training step : 58000 cost = 0.0879008\n",
      "Training step : 58500 cost = 0.0877697\n",
      "Training step : 59000 cost = 0.08764\n",
      "Training step : 59500 cost = 0.0875121\n",
      "Training step : 60000 cost = 0.0873856\n",
      "Training step : 60500 cost = 0.0872608\n",
      "Training step : 61000 cost = 0.0871375\n",
      "Training step : 61500 cost = 0.0870157\n",
      "Training step : 62000 cost = 0.0868954\n",
      "Training step : 62500 cost = 0.0867765\n",
      "Training step : 63000 cost = 0.0866592\n",
      "Training step : 63500 cost = 0.0865431\n",
      "Training step : 64000 cost = 0.0864288\n",
      "Training step : 64500 cost = 0.0863155\n",
      "Training step : 65000 cost = 0.0862039\n",
      "Training step : 65500 cost = 0.0860934\n",
      "Training step : 66000 cost = 0.0859844\n",
      "Training step : 66500 cost = 0.0858765\n",
      "Training step : 67000 cost = 0.0857701\n",
      "Training step : 67500 cost = 0.0856648\n",
      "Training step : 68000 cost = 0.0855609\n",
      "Training step : 68500 cost = 0.0854581\n",
      "Training step : 69000 cost = 0.0853567\n",
      "Training step : 69500 cost = 0.0852563\n",
      "Training step : 70000 cost = 0.0851573\n",
      "Training step : 70500 cost = 0.0850592\n",
      "Training step : 71000 cost = 0.0849625\n",
      "Training step : 71500 cost = 0.0848667\n",
      "Training step : 72000 cost = 0.0847724\n",
      "Training step : 72500 cost = 0.0846787\n",
      "Training step : 73000 cost = 0.0845865\n",
      "Training step : 73500 cost = 0.0844952\n",
      "Training step : 74000 cost = 0.084405\n",
      "Training step : 74500 cost = 0.0843158\n",
      "Training step : 75000 cost = 0.0842276\n",
      "Training step : 75500 cost = 0.0841406\n",
      "Training step : 76000 cost = 0.0840543\n",
      "Training step : 76500 cost = 0.0839692\n",
      "Training step : 77000 cost = 0.0838849\n",
      "Training step : 77500 cost = 0.0838019\n",
      "Training step : 78000 cost = 0.0837195\n",
      "Training step : 78500 cost = 0.0836382\n",
      "Training step : 79000 cost = 0.0835579\n",
      "Training step : 79500 cost = 0.0834781\n",
      "Training step : 80000 cost = 0.0833997\n",
      "Training step : 80500 cost = 0.0833219\n",
      "Training step : 81000 cost = 0.083245\n",
      "Training step : 81500 cost = 0.0831691\n",
      "Training step : 82000 cost = 0.0830938\n",
      "Training step : 82500 cost = 0.0830196\n",
      "Training step : 83000 cost = 0.082946\n",
      "Training step : 83500 cost = 0.0828734\n",
      "Training step : 84000 cost = 0.0828015\n",
      "Training step : 84500 cost = 0.0827303\n",
      "Training step : 85000 cost = 0.0826601\n",
      "Training step : 85500 cost = 0.0825906\n",
      "Training step : 86000 cost = 0.0825217\n",
      "Training step : 86500 cost = 0.0824538\n",
      "Training step : 87000 cost = 0.0823864\n",
      "Training step : 87500 cost = 0.0823199\n",
      "Training step : 88000 cost = 0.0822541\n",
      "Training step : 88500 cost = 0.0821889\n",
      "Training step : 89000 cost = 0.0821245\n",
      "Training step : 89500 cost = 0.0820609\n",
      "Training step : 90000 cost = 0.0819976\n",
      "Training step : 90500 cost = 0.0819354\n",
      "Training step : 91000 cost = 0.0818737\n",
      "Training step : 91500 cost = 0.0818125\n",
      "Training step : 92000 cost = 0.0817524\n",
      "Training step : 92500 cost = 0.0816926\n",
      "Training step : 93000 cost = 0.0816332\n",
      "Training step : 93500 cost = 0.081575\n",
      "Training step : 94000 cost = 0.0815171\n",
      "Training step : 94500 cost = 0.0814596\n",
      "Training step : 95000 cost = 0.081403\n",
      "Training step : 95500 cost = 0.0813471\n",
      "Training step : 96000 cost = 0.0812914\n",
      "Training step : 96500 cost = 0.0812365\n",
      "Training step : 97000 cost = 0.0811822\n",
      "Training step : 97500 cost = 0.0811284\n",
      "Training step : 98000 cost = 0.0810752\n",
      "Training step : 98500 cost = 0.0810225\n",
      "Training step : 99000 cost = 0.0809703\n",
      "Training step : 99500 cost = 0.0809187\n"
     ]
    }
   ],
   "source": [
    "with tf.Session() as sess:\n",
    "    sess.run(init)\n",
    "    \n",
    "    for i in range(epochs):\n",
    "        sess.run(optimizer, feed_dict={X: data, y_: label})\n",
    "        \n",
    "        if i % display_step == 0:\n",
    "            cc = sess.run(cost, feed_dict={X: data, y_: label})\n",
    "            print \"Training step : \" + str(i) + \" cost = \" + str(cc)\n",
    "    pred = sess.run(y, feed_dict={X: data})"
   ]
  },
  {
   "cell_type": "code",
   "execution_count": 147,
   "metadata": {
    "collapsed": false
   },
   "outputs": [
    {
     "data": {
      "text/plain": [
       "array([[ 0.32652295,  0.67347705],\n",
       "       [ 0.289794  ,  0.71020597],\n",
       "       [ 0.2603586 ,  0.73964143],\n",
       "       ..., \n",
       "       [ 0.28921887,  0.71078116],\n",
       "       [ 0.27846721,  0.72153276],\n",
       "       [ 0.78181022,  0.21818972]], dtype=float32)"
      ]
     },
     "execution_count": 147,
     "metadata": {},
     "output_type": "execute_result"
    }
   ],
   "source": [
    "pred"
   ]
  },
  {
   "cell_type": "code",
   "execution_count": 148,
   "metadata": {
    "collapsed": true
   },
   "outputs": [],
   "source": [
    "import numpy as np\n",
    "def accuracy(pred, label):\n",
    "    pred_class = np.argmax(pred, axis=1)\n",
    "    true_class = np.argmax(label, axis=1)\n",
    "    acc = accuracy =  (100.0 * np.sum(pred_class == true_class) / label.shape[0])\n",
    "    return acc"
   ]
  },
  {
   "cell_type": "code",
   "execution_count": 149,
   "metadata": {
    "collapsed": false
   },
   "outputs": [
    {
     "name": "stdout",
     "output_type": "stream",
     "text": [
      "accuracy : 80.9446254072\n"
     ]
    }
   ],
   "source": [
    "print \"accuracy : \" + str(accuracy(pred, label))"
   ]
  }
 ],
 "metadata": {
  "kernelspec": {
   "display_name": "Python 2",
   "language": "python",
   "name": "python2"
  },
  "language_info": {
   "codemirror_mode": {
    "name": "ipython",
    "version": 2
   },
   "file_extension": ".py",
   "mimetype": "text/x-python",
   "name": "python",
   "nbconvert_exporter": "python",
   "pygments_lexer": "ipython2",
   "version": "2.7.12"
  },
  "widgets": {
   "state": {},
   "version": "1.1.2"
  }
 },
 "nbformat": 4,
 "nbformat_minor": 0
}
